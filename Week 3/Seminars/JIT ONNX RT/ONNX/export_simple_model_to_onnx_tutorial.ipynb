{
  "cells": [
    {
      "cell_type": "markdown",
      "metadata": {
        "id": "Su91VJLn7jTr"
      },
      "source": [
        "## ONNX - первый опыт\n",
        "\n",
        "ONNX — это гибкий открытый стандартный формат для представления моделей. Позволяющий запускать модели на разном железе и разной среде выполнения.\n",
        "\n",
        "\n",
        "\n",
        "В этом семинаре мы разберем:\n",
        "\n",
        "1. Экспортируйт модели в формат ONNX.\n",
        "2. Сохранение модели ONNX в файл.\n",
        "3. Визуализация модели ONNX, используя\n",
        " [Нетрон](https://github.com/lutzroeder/netron).\n",
        "4. Выполнение модели ONNX с помощью [ONNX Runtime]{.title-ref}\n",
        "5. Сравнение результатов PyTorch.\n",
        "\n",
        "\n",
        "<br>\n",
        "\n",
        "=================================== <br>\n",
        "\n",
        "Необходимые зависимости:\n",
        "\n",
        "> ``` {.sourceCode .bash}\n",
        "> pip install onnx\n",
        "> pip install onnxscript\n",
        "> ```\n"
      ]
    },
    {
      "cell_type": "code",
      "execution_count": 1,
      "metadata": {
        "id": "E1JXnaOZ7jTs"
      },
      "outputs": [],
      "source": [
        "import time\n",
        "import numpy as np\n",
        "\n",
        "import torch\n",
        "import torch.nn as nn\n",
        "import torch.nn.functional as F\n",
        "\n",
        "\n",
        "class MyModel(nn.Module):\n",
        "\n",
        "    def __init__(self):\n",
        "        super(MyModel, self).__init__()\n",
        "        self.conv1 = nn.Conv2d(1, 6, 5)\n",
        "        self.conv2 = nn.Conv2d(6, 16, 5)\n",
        "        self.fc1 = nn.Linear(16 * 5 * 5, 120)\n",
        "        self.fc2 = nn.Linear(120, 84)\n",
        "        self.fc3 = nn.Linear(84, 10)\n",
        "\n",
        "    def forward(self, x):\n",
        "        x = F.max_pool2d(F.relu(self.conv1(x)), (2, 2))\n",
        "        x = F.max_pool2d(F.relu(self.conv2(x)), 2)\n",
        "        \n",
        "        if x.sum() > 0:\n",
        "            x = torch.flatten(x, 1)\n",
        "            \n",
        "        x = F.relu(self.fc1(x))\n",
        "        x = F.relu(self.fc2(x))\n",
        "        x = self.fc3(x)\n",
        "        return x"
      ]
    },
    {
      "cell_type": "markdown",
      "metadata": {
        "id": "MdxPF51K7jTs"
      },
      "source": [
        "## Экспортируем модель в формат ONNX. \n",
        "\n",
        "\n",
        "Cюрприз сюрприз! <br>\n",
        "\n",
        "Мы используем тут ``torch.jit.trace``, соотвественно, все проблемы которые мы обсуждали тут появятся. \n",
        "\n"
      ]
    },
    {
      "cell_type": "code",
      "execution_count": 2,
      "metadata": {
        "id": "ukY2mktR7jTs"
      },
      "outputs": [
        {
          "name": "stdout",
          "output_type": "stream",
          "text": [
            "============= Diagnostic Run torch.onnx.export version 2.0.1+cu118 =============\n",
            "verbose: False, log level: Level.ERROR\n",
            "======================= 0 NONE 0 NOTE 0 WARNING 0 ERROR ========================\n",
            "\n"
          ]
        },
        {
          "name": "stderr",
          "output_type": "stream",
          "text": [
            "/tmp/ipykernel_74230/500133859.py:23: TracerWarning: Converting a tensor to a Python boolean might cause the trace to be incorrect. We can't record the data flow of Python values, so this value will be treated as a constant in the future. This means that the trace might not generalize to other inputs!\n",
            "  if x.sum() > 0:\n"
          ]
        }
      ],
      "source": [
        "torch_model = MyModel()\n",
        "torch_input = torch.randn(1, 1, 32, 32)\n",
        "torch.onnx.export(torch_model,torch_input, 'model.onnx')\n"
      ]
    },
    {
      "cell_type": "code",
      "execution_count": 3,
      "metadata": {},
      "outputs": [],
      "source": [
        "class MyModel(nn.Module):\n",
        "\n",
        "    def __init__(self):\n",
        "        super(MyModel, self).__init__()\n",
        "        self.conv1 = nn.Conv2d(1, 6, 5)\n",
        "        self.conv2 = nn.Conv2d(6, 16, 5)\n",
        "        self.fc1 = nn.Linear(16 * 5 * 5, 120)\n",
        "        self.fc2 = nn.Linear(120, 84)\n",
        "        self.fc3 = nn.Linear(84, 10)\n",
        "\n",
        "    def forward(self, x):\n",
        "        x = F.max_pool2d(F.relu(self.conv1(x)), (2, 2))\n",
        "        x = F.max_pool2d(F.relu(self.conv2(x)), 2)\n",
        "        x = torch.flatten(x, 1)\n",
        "        x = F.relu(self.fc1(x))\n",
        "        x = F.relu(self.fc2(x))\n",
        "        x = self.fc3(x)\n",
        "        return x"
      ]
    },
    {
      "cell_type": "code",
      "execution_count": 4,
      "metadata": {},
      "outputs": [
        {
          "name": "stdout",
          "output_type": "stream",
          "text": [
            "============= Diagnostic Run torch.onnx.export version 2.0.1+cu118 =============\n",
            "verbose: False, log level: Level.ERROR\n",
            "======================= 0 NONE 0 NOTE 0 WARNING 0 ERROR ========================\n",
            "\n"
          ]
        }
      ],
      "source": [
        "torch_model = MyModel()\n",
        "torch_input = torch.randn(1, 1, 32, 32)\n",
        "\n",
        "torch.onnx.export(torch_model,\n",
        "                torch_input, \n",
        "                'model.onnx', \n",
        "                do_constant_folding=True,\n",
        "                input_names = ['input'],   # the model's input names\n",
        "                output_names = ['output'])"
      ]
    },
    {
      "cell_type": "markdown",
      "metadata": {
        "id": "lldT37Kq7jTs"
      },
      "source": [
        "Ок, во втором случае у нас не было никаих ошибок.  <br>\n",
        "\n",
        "\n",
        "Так же есть и другой способ конвертации, но он еще свежий и иногда бывают ошибки с зависимостями. <br>\n",
        "\n",
        "``onnx_program = torch.onnx.dynamo_export(model, tensor_x)``"
      ]
    },
    {
      "cell_type": "code",
      "execution_count": 5,
      "metadata": {
        "id": "CF6_0FQp7jTs"
      },
      "outputs": [],
      "source": [
        "import onnx\n",
        "onnx_model = onnx.load('model.onnx')\n",
        "onnx.checker.check_model(onnx_model)"
      ]
    },
    {
      "cell_type": "code",
      "execution_count": 6,
      "metadata": {},
      "outputs": [
        {
          "name": "stdout",
          "output_type": "stream",
          "text": [
            "graph torch_jit (\n",
            "  %input[FLOAT, 1x1x32x32]\n",
            ") initializers (\n",
            "  %conv1.weight[FLOAT, 6x1x5x5]\n",
            "  %conv1.bias[FLOAT, 6]\n",
            "  %conv2.weight[FLOAT, 16x6x5x5]\n",
            "  %conv2.bias[FLOAT, 16]\n",
            "  %fc1.weight[FLOAT, 120x400]\n",
            "  %fc1.bias[FLOAT, 120]\n",
            "  %fc2.weight[FLOAT, 84x120]\n",
            "  %fc2.bias[FLOAT, 84]\n",
            "  %fc3.weight[FLOAT, 10x84]\n",
            "  %fc3.bias[FLOAT, 10]\n",
            ") {\n",
            "  %/conv1/Conv_output_0 = Conv[dilations = [1, 1], group = 1, kernel_shape = [5, 5], pads = [0, 0, 0, 0], strides = [1, 1]](%input, %conv1.weight, %conv1.bias)\n",
            "  %/Relu_output_0 = Relu(%/conv1/Conv_output_0)\n",
            "  %/MaxPool_output_0 = MaxPool[ceil_mode = 0, kernel_shape = [2, 2], pads = [0, 0, 0, 0], strides = [2, 2]](%/Relu_output_0)\n",
            "  %/conv2/Conv_output_0 = Conv[dilations = [1, 1], group = 1, kernel_shape = [5, 5], pads = [0, 0, 0, 0], strides = [1, 1]](%/MaxPool_output_0, %conv2.weight, %conv2.bias)\n",
            "  %/Relu_1_output_0 = Relu(%/conv2/Conv_output_0)\n",
            "  %/MaxPool_1_output_0 = MaxPool[ceil_mode = 0, kernel_shape = [2, 2], pads = [0, 0, 0, 0], strides = [2, 2]](%/Relu_1_output_0)\n",
            "  %/Flatten_output_0 = Flatten[axis = 1](%/MaxPool_1_output_0)\n",
            "  %/fc1/Gemm_output_0 = Gemm[alpha = 1, beta = 1, transB = 1](%/Flatten_output_0, %fc1.weight, %fc1.bias)\n",
            "  %/Relu_2_output_0 = Relu(%/fc1/Gemm_output_0)\n",
            "  %/fc2/Gemm_output_0 = Gemm[alpha = 1, beta = 1, transB = 1](%/Relu_2_output_0, %fc2.weight, %fc2.bias)\n",
            "  %/Relu_3_output_0 = Relu(%/fc2/Gemm_output_0)\n",
            "  %output = Gemm[alpha = 1, beta = 1, transB = 1](%/Relu_3_output_0, %fc3.weight, %fc3.bias)\n",
            "  return %output\n",
            "}\n"
          ]
        }
      ],
      "source": [
        "print(onnx.helper.printable_graph(onnx_model.graph))"
      ]
    },
    {
      "cell_type": "markdown",
      "metadata": {
        "id": "bzvxsFyl7jTt"
      },
      "source": [
        "Визуализируем график модели ONNX с помощью Netron\n",
        "\n",
        "Теперь, когда наша модель сохранена в файле, мы можем визуализировать ее с помощью\n",
        "[Netron](https://github.com/lutzroeder/netron). Netron может быть либо\n",
        "устанавливается на компьютеры Macos, Linux или Windows или запускается непосредственно из\n",
        "браузер. Давайте попробуем веб-версию, открыв следующую ссылку:\n",
        "<https://netron.app/>.\n",
        "\n",
        "![image](https://pytorch.org/tutorials/_static/img/onnx/netron_web_ui.png){.align-center\n",
        "width=\"70.0%\"}\n",
        "\n",
        "Как только Netron откроется, мы можем перетащить наш `my_image_classifier.onnx`\n",
        "файл в браузере или выберите его, нажав кнопку **Открыть модель**.\n",
        "кнопка.\n",
        "\n",
        "![image](https://pytorch.org/tutorials/_static/img/onnx/image_clossifier_onnx_modelon_netron_web_ui.png){width=\"50.0%\"}\n",
        "\n",
        "И это все! Мы успешно экспортировали нашу модель PyTorch в ONNX.\n",
        "формате и визуализировал его с помощью Netron.\n",
        "\n",
        "\n",
        "\n",
        "Запуск модели ONNX с помощью ONNX Runtime.\n",
        "===========================================\n",
        "\n",
        "\n",
        "> ``` {.sourceCode .bash}\n",
        "> pip install onnxruntime\n",
        "> ```\n",
        "\n",
        "Стандарт ONNX не поддерживает все структуры и типы данных, которые есть в\n",
        "PyTorch, поэтому часто нам нужно адаптировать входные данные PyTorch к формату ONNX, прежде чем\n",
        "передать его в среду выполнения ONNX.  <br>\n",
        "\n",
        "ONNX Runtime требует дополнительного шага, который включает в себя преобразование всех\n",
        "Тензоры PyTorch в Numpy (на CPU) и оборачивание их в словарь, ключи представляют собой строку с входным именем в качестве ключа и тензором numpy в качестве\n",
        "значения. <br>\n",
        "\n",
        "Теперь мы можем создать *сеанс вывода времени выполнения ONNX*, выполнить команду ONNX.\n",
        "модель с обработанными входными данными и получить выходные данные. В этом семинаре\n",
        "ONNX Runtime выполняется на CPU, но его можно запустить и на GPU. <br>"
      ]
    },
    {
      "cell_type": "code",
      "execution_count": 7,
      "metadata": {
        "id": "Qx2NQdGD7jTt"
      },
      "outputs": [
        {
          "name": "stdout",
          "output_type": "stream",
          "text": [
            "Input length: 1\n",
            "elapsed in 0.08559751510620117\n"
          ]
        }
      ],
      "source": [
        "import onnxruntime\n",
        "\n",
        "options = onnxruntime.SessionOptions()\n",
        "options.intra_op_num_threads = 10\n",
        "\n",
        "#onnx_input = onnx_model.adapt_torch_inputs_to_onnx(torch_input)\n",
        "\n",
        "print(f\"Input length: {len(torch_input)}\")\n",
        "\n",
        "\n",
        "ort_session = onnxruntime.InferenceSession(\"./model.onnx\",sess_options=options, providers=['CPUExecutionProvider'])\n",
        "\n",
        "def to_numpy(tensor):\n",
        "    return tensor.detach().cpu().numpy() if tensor.requires_grad else tensor.cpu().numpy()\n",
        "\n",
        "ort_inputs = {ort_session.get_inputs()[0].name: to_numpy(torch_input)}\n",
        "\n",
        "\n",
        "\n",
        "start_time = time.time()\n",
        "for _ in range(1000):        \n",
        "    #execution_time = end_time - start_time\n",
        "    onnxruntime_outputs = ort_session.run(None, ort_inputs)\n",
        "end_time = time.time()\n",
        "execution_time = end_time - start_time\n",
        "print(f'elapsed in {execution_time}')\n",
        "# Calculate the execution time"
      ]
    },
    {
      "cell_type": "markdown",
      "metadata": {
        "id": "mahGQVL27jTt"
      },
      "source": [
        "Сравним результаты PyTorch с результатами среды выполнения ONNX.\n"
      ]
    },
    {
      "cell_type": "code",
      "execution_count": 8,
      "metadata": {},
      "outputs": [
        {
          "name": "stdout",
          "output_type": "stream",
          "text": [
            "elapsed in 11.248764991760254\n"
          ]
        }
      ],
      "source": [
        "start_time = time.time()\n",
        "for _ in range(1000):        \n",
        "    #execution_time = end_time - start_time\n",
        "    torch_outputs = torch_model(torch_input)\n",
        "end_time = time.time()\n",
        "execution_time = end_time - start_time\n",
        "print(f'elapsed in {execution_time}')"
      ]
    },
    {
      "cell_type": "code",
      "execution_count": 9,
      "metadata": {
        "id": "WHRq21Vu7jTt"
      },
      "outputs": [
        {
          "name": "stdout",
          "output_type": "stream",
          "text": [
            "PyTorch and ONNX Runtime output matched!\n",
            "Output length: 1\n",
            "Sample output: [array([[ 0.06829299,  0.03038987,  0.03878107,  0.06286454, -0.0067445 ,\n",
            "         0.07527031, -0.0471851 ,  0.10588882,  0.10084195, -0.06539278]],\n",
            "      dtype=float32)]\n"
          ]
        }
      ],
      "source": [
        "assert len(torch_outputs) == len(onnxruntime_outputs)\n",
        "for torch_output, onnxruntime_output in zip(torch_outputs, onnxruntime_outputs):\n",
        "    torch.testing.assert_close(torch_output, torch.tensor(onnxruntime_output)[0])\n",
        "\n",
        "print(\"PyTorch and ONNX Runtime output matched!\")\n",
        "print(f\"Output length: {len(onnxruntime_outputs)}\")\n",
        "print(f\"Sample output: {onnxruntime_outputs}\")"
      ]
    },
    {
      "cell_type": "markdown",
      "metadata": {},
      "source": [
        "А теперь одна из многих возможностей ONNX, это конвертация модели в fp16"
      ]
    },
    {
      "cell_type": "code",
      "execution_count": 10,
      "metadata": {},
      "outputs": [],
      "source": [
        "# pip install onnx onnxconverter-common\n",
        "from onnxconverter_common import float16\n",
        " \n",
        "model_fp16 = float16.convert_float_to_float16(onnx_model)\n",
        "onnx.save(model_fp16, \"model_fp16.onnx\")"
      ]
    },
    {
      "cell_type": "code",
      "execution_count": 11,
      "metadata": {},
      "outputs": [
        {
          "name": "stdout",
          "output_type": "stream",
          "text": [
            "elapses in 0.2501657009124756\n"
          ]
        }
      ],
      "source": [
        "ort_session = onnxruntime.InferenceSession(\"./model_fp16.onnx\",sess_options=options, providers=['CPUExecutionProvider'])\n",
        "\n",
        "ort_inputs = {ort_session.get_inputs()[0].name: to_numpy(torch_input).astype(np.float16)}\n",
        "\n",
        "\n",
        "\n",
        "start_time = time.time()\n",
        "for _ in range(1000):        \n",
        "    #execution_time = end_time - start_time\n",
        "    onnxruntime_outputs = ort_session.run(None, ort_inputs)\n",
        "end_time = time.time()\n",
        "execution_time = end_time - start_time\n",
        "print(f'elapses in {execution_time}')\n",
        "# Calculate the execution time"
      ]
    },
    {
      "cell_type": "code",
      "execution_count": 12,
      "metadata": {},
      "outputs": [
        {
          "name": "stdout",
          "output_type": "stream",
          "text": [
            "PyTorch and ONNX Runtime output matched!\n",
            "Output length: 1\n",
            "Sample output: [array([[ 0.06824,  0.03038,  0.0388 ,  0.06287, -0.00676,  0.07526,\n",
            "        -0.04718,  0.10583,  0.1009 , -0.0654 ]], dtype=float16)]\n"
          ]
        }
      ],
      "source": [
        "torch_outputs = torch_model(torch_input)\n",
        "\n",
        "\n",
        "assert len(torch_outputs) == len(onnxruntime_outputs)\n",
        "for torch_output, onnxruntime_output in zip(torch_outputs, onnxruntime_outputs):\n",
        "    torch.testing.assert_close(torch_output.to(torch.float16), torch.tensor(onnxruntime_output)[0])\n",
        "\n",
        "print(\"PyTorch and ONNX Runtime output matched!\")\n",
        "print(f\"Output length: {len(onnxruntime_outputs)}\")\n",
        "print(f\"Sample output: {onnxruntime_outputs}\")"
      ]
    },
    {
      "attachments": {
        "image.png": {
          "image/png": "[encoded data removed]"
        }
      },
      "cell_type": "markdown",
      "metadata": {},
      "source": [
        "![image.png](attachment:image.png)"
      ]
    },
    {
      "cell_type": "code",
      "execution_count": 13,
      "metadata": {},
      "outputs": [
        {
          "name": "stdout",
          "output_type": "stream",
          "text": [
            "elapses in 0.09225773811340332\n"
          ]
        },
        {
          "name": "stderr",
          "output_type": "stream",
          "text": [
            "/usr/local/lib/python3.10/site-packages/onnxruntime/capi/onnxruntime_inference_collection.py:69: UserWarning: Specified provider 'TensorrtExecutionProvider' is not in available provider names.Available providers: 'AzureExecutionProvider, CPUExecutionProvider'\n",
            "  warnings.warn(\n"
          ]
        }
      ],
      "source": [
        " #set providers to ['TensorrtExecutionProvider', 'CUDAExecutionProvider'] with TensorrtExecutionProvider having the higher priority.\n",
        "\n",
        "ort_session = onnxruntime.InferenceSession(\"./model.onnx\",sess_options=options, providers=['TensorrtExecutionProvider'])\n",
        "\n",
        "ort_inputs = {ort_session.get_inputs()[0].name: to_numpy(torch_input)}\n",
        "\n",
        "\n",
        "\n",
        "start_time = time.time()\n",
        "for _ in range(1000):        \n",
        "    #execution_time = end_time - start_time\n",
        "    onnxruntime_outputs = ort_session.run(None, ort_inputs)\n",
        "end_time = time.time()\n",
        "execution_time = end_time - start_time\n",
        "print(f'elapses in {execution_time}')\n",
        "# Calculate the execution time"
      ]
    }
  ],
  "metadata": {
    "colab": {
      "provenance": []
    },
    "kernelspec": {
      "display_name": "Python 3",
      "language": "python",
      "name": "python3"
    },
    "language_info": {
      "codemirror_mode": {
        "name": "ipython",
        "version": 3
      },
      "file_extension": ".py",
      "mimetype": "text/x-python",
      "name": "python",
      "nbconvert_exporter": "python",
      "pygments_lexer": "ipython3",
      "version": "3.10.11"
    }
  },
  "nbformat": 4,
  "nbformat_minor": 0
}
